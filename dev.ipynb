{
 "cells": [
  {
   "cell_type": "markdown",
   "metadata": {},
   "source": [
    "Getting bristol toilet data"
   ]
  },
  {
   "cell_type": "code",
   "execution_count": 1,
   "metadata": {},
   "outputs": [
    {
     "name": "stdout",
     "output_type": "stream",
     "text": [
      "Connected to MySQL Server version  8.0.30\n",
      "You're connected to database:  ('bristol_data',)\n",
      "MySQL connection is closed\n"
     ]
    }
   ],
   "source": [
    "# Imports\n",
    "import pandas as pd\n",
    "import mysql.connector\n",
    "from mysql.connector import Error\n",
    "from dotenv import load_dotenv, find_dotenv\n",
    "import os \n",
    "\n",
    "# Getting MySQL credentials\n",
    "load_dotenv(find_dotenv())\n",
    "\n",
    "# Defining SQL query to execute\n",
    "sql = \"SELECT * FROM bristol_public_toilets\"\n",
    "\n",
    "try:\n",
    "    connection = mysql.connector.connect(host='localhost',\n",
    "                                         database='BRISTOL_DATA',\n",
    "                                         user=os.environ.get('secretUser'),\n",
    "                                         password=os.environ.get('secretKey'))\n",
    "    if connection.is_connected():\n",
    "        db_Info = connection.get_server_info()\n",
    "        print(\"Connected to MySQL Server version \", db_Info)\n",
    "        cursor = connection.cursor()\n",
    "        cursor.execute(\"select database();\")\n",
    "        record = cursor.fetchone()\n",
    "        print(\"You're connected to database: \", record)\n",
    "\n",
    "except Error as e:\n",
    "    print(\"Error while connecting to MySQL\", e)\n",
    "finally:\n",
    "    if connection.is_connected():\n",
    "        mycursor = connection.cursor()\n",
    "\n",
    "        mycursor.execute(\"SELECT * FROM bristol_public_toilets\")\n",
    "        df = pd.DataFrame(mycursor.fetchall())\n",
    "\n",
    "        cursor.close()\n",
    "        connection.close()\n",
    "        print(\"MySQL connection is closed\")\n"
   ]
  },
  {
   "cell_type": "code",
   "execution_count": 2,
   "metadata": {},
   "outputs": [
    {
     "name": "stdout",
     "output_type": "stream",
     "text": [
      "      0                                                  1   \\\n",
      "0     52                            Tesco - Callington Road   \n",
      "1     29                           Sea Walls Public Toilets   \n",
      "2     54   Avonmouth Medical Centre (Pioneer Medical Group)   \n",
      "3     57                             Barton Hill Settlement   \n",
      "4    115  The Greenway Centre, The Southmead Development...   \n",
      "..   ...                                                ...   \n",
      "95   158           JD Weatherspoon - The Robert Fitzharding   \n",
      "96   134                             McDonald's - Avonmeads   \n",
      "97   611                            Hengrove Leisure centre   \n",
      "98   596                           Knowle West Media Centre   \n",
      "99  5474                                     Tenpin Bristol   \n",
      "\n",
      "                                                   2         3   \\\n",
      "0                           Callington Road,\\nBS4 5AY   BS4 5AY   \n",
      "1             Circular Road By Sea Walls viewing Area   BS9 1ZZ   \n",
      "2                           1 Collins Street, Bristol  BS11 9JJ   \n",
      "3                          41-43 Ducie Road,\\nBS5 0AX   BS5 0AX   \n",
      "4                 The Greenway Centre, Doncaster Road  BS10 5PY   \n",
      "..                                                ...       ...   \n",
      "95  The Robert Fitzharding, 24 Cannon St, Bedminst...   BS3 1BN   \n",
      "96         Avonmeads Retail park, St Philips Causeway   BS2 0SP   \n",
      "97                                                                \n",
      "98                                     Linster Avenue   BS4 1NL   \n",
      "99                               St Phillips causeway   BS2 0SP   \n",
      "\n",
      "                             4   \\\n",
      "0              Brislington West   \n",
      "1                  Stoke Bishop   \n",
      "2   Avonmouth & Lawrence Weston   \n",
      "3                 Lawrence Hill   \n",
      "4                     Southmead   \n",
      "..                          ...   \n",
      "95                   Southville   \n",
      "96                Lawrence Hill   \n",
      "97   Hengrove & Whitchurch Park   \n",
      "98                      Filwood   \n",
      "99                Lawrence Hill   \n",
      "\n",
      "                                                   5    6  7    8    9   ...  \\\n",
      "0   Mon 8am then 24 hours until 10pm on Sats, Sun ...  Yes  0  Yes  0.0  ...   \n",
      "1                        Monday - Saunday  7:30-18:00    2  1    3  NaN  ...   \n",
      "2   Monday-Thursday 08:00 - 18:30, Friday 08:00-17:00    0  0    0  2.0  ...   \n",
      "3                        Monday - Friday 9:00 - 16:00    2       2  0.0  ...   \n",
      "4                 Mon-Fri 8am-10pm, Sat-Sun 9am - 5pm    1  3    4  0.0  ...   \n",
      "..                                                ...  ... ..  ...  ...  ...   \n",
      "95  Sunday- Thursday 08:00- 00:00 Friday and Satur...    5  4    6  NaN  ...   \n",
      "96                                      06:00 - 23:00  Yes  ?  Yes  NaN  ...   \n",
      "97                                                                  NaN  ...   \n",
      "98                          Monday -Friday 9:30-17:00    2       2  NaN  ...   \n",
      "99  Monday-Friday 11am to 11pm, Saturday 10am to 1...    2  4    7  NaN  ...   \n",
      "\n",
      "   13                                 14 15   16 17 18 19 20  \\\n",
      "0   N             Yes- during open times  N    Y  N  N     N   \n",
      "1   N                                  N  Y    Y  N  N  N  N   \n",
      "2   N                Y during open times  N    Y  N  N  Y  Y   \n",
      "3   N              Yes- during open time  N    Y  N  N  Y  Y   \n",
      "4   N                   Yes - while open  N    Y  N  N  Y  Y   \n",
      ".. ..                                ... ..  ... .. .. .. ..   \n",
      "95  N                Y during open times  Y    Y  N  N  Y  Y   \n",
      "96                                           Yes  N  N     N   \n",
      "97                                                             \n",
      "98  N             Yes- during open times  N    Y     N  Y  Y   \n",
      "99  N  Monitored during operational hour                       \n",
      "\n",
      "                                                   21  \\\n",
      "0   {\"coordinates\": [-2.554650233215569, 51.432473...   \n",
      "1   {\"coordinates\": [-2.635545426921134, 51.470142...   \n",
      "2   {\"coordinates\": [-2.694532865994351, 51.498751...   \n",
      "3   {\"coordinates\": [-2.563674974700087, 51.456249...   \n",
      "4   {\"coordinates\": [-2.608793382751279, 51.499486...   \n",
      "..                                                ...   \n",
      "95  {\"coordinates\": [-2.6008703511839233, 51.44118...   \n",
      "96  {\"coordinates\": [-2.560368972704083, 51.447183...   \n",
      "97  {\"coordinates\": [-2.584558101587172, 51.413169...   \n",
      "98  {\"coordinates\": [-2.593129767220259, 51.425479...   \n",
      "99  {\"coordinates\": [-2.560194034424857, 51.448845...   \n",
      "\n",
      "                                      22  \n",
      "0   51.43247327181327,-2.554650233215569  \n",
      "1   51.47014254948864,-2.635545426921134  \n",
      "2     51.498751607481,-2.694532865994351  \n",
      "3    51.4562494756259,-2.563674974700087  \n",
      "4   51.49948627978974,-2.608793382751279  \n",
      "..                                   ...  \n",
      "95  51.4411830760796,-2.6008703511839233  \n",
      "96  51.44718357349885,-2.560368972704083  \n",
      "97    51.413169761951,-2.584558101587172  \n",
      "98  51.42547936338119,-2.593129767220259  \n",
      "99  51.44884529553361,-2.560194034424857  \n",
      "\n",
      "[100 rows x 23 columns]\n"
     ]
    }
   ],
   "source": [
    "print(df)"
   ]
  },
  {
   "cell_type": "code",
   "execution_count": null,
   "metadata": {},
   "outputs": [],
   "source": []
  }
 ],
 "metadata": {
  "kernelspec": {
   "display_name": "Python 3.8.12 64-bit ('bristolToiletLocator')",
   "language": "python",
   "name": "python3"
  },
  "language_info": {
   "codemirror_mode": {
    "name": "ipython",
    "version": 3
   },
   "file_extension": ".py",
   "mimetype": "text/x-python",
   "name": "python",
   "nbconvert_exporter": "python",
   "pygments_lexer": "ipython3",
   "version": "3.8.12"
  },
  "orig_nbformat": 4,
  "vscode": {
   "interpreter": {
    "hash": "4225c6db9f2df4e13cc363f97545cd81867558bfcff8874df185083eca9d0eed"
   }
  }
 },
 "nbformat": 4,
 "nbformat_minor": 2
}
